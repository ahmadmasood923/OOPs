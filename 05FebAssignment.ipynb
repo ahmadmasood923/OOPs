{
 "cells": [
  {
   "cell_type": "markdown",
   "id": "10b37ac2-667f-41a2-a689-bd0e12c45fd0",
   "metadata": {},
   "source": [
    "## Ques 1:"
   ]
  },
  {
   "cell_type": "markdown",
   "id": "11fdaf51-40ca-4b8c-95f2-6168e83c21c9",
   "metadata": {},
   "source": [
    "### Ans: In object-oriented programming, a class is a blueprint for creating objects (a particular data structure), providing initial values for state (member variables or attributes), and implementations of behavior (member functions or methods). The user-defined objects are created using the class keyword.\n",
    "###     Objects are the things you think about first in designing a program and they are also the units of code that are eventually derived from the           process."
   ]
  },
  {
   "cell_type": "markdown",
   "id": "d3568e85-ef00-4fd4-b5c6-30d5bc43e93c",
   "metadata": {},
   "source": [
    "## Ques 2:"
   ]
  },
  {
   "cell_type": "markdown",
   "id": "8a3c6471-2183-47ec-ab17-0644fb548662",
   "metadata": {},
   "source": [
    "### Ans: The four pillars of OOPs are 'Inheritence', 'Polymorphism', 'Encapsulation' and 'Abstraction'."
   ]
  },
  {
   "cell_type": "markdown",
   "id": "a052db29-d47a-47a3-b743-9484733011be",
   "metadata": {},
   "source": [
    "## Ques 3:"
   ]
  },
  {
   "cell_type": "markdown",
   "id": "0290bcaf-48a2-45f9-9a3f-f00084fbc530",
   "metadata": {},
   "source": [
    "### Ans: The __init__ method lets the class initialize the object's attributes and serves no other purpose. It is only used within classes."
   ]
  },
  {
   "cell_type": "code",
   "execution_count": 21,
   "id": "1b940082-3f51-4901-947c-968cafe4fd76",
   "metadata": {},
   "outputs": [
    {
     "data": {
      "text/plain": [
       "'Toyota'"
      ]
     },
     "execution_count": 21,
     "metadata": {},
     "output_type": "execute_result"
    }
   ],
   "source": [
    "# Use of __init___\n",
    "class car:\n",
    "    def __init__(self, make, model):\n",
    "        self.make = make\n",
    "        self.model = model\n",
    "car = car('Toyota', 'landcruiser')\n",
    "car.make"
   ]
  },
  {
   "cell_type": "markdown",
   "id": "2ddc3339-2dad-4cab-b863-2abe61c131da",
   "metadata": {},
   "source": [
    "## Ques 4:"
   ]
  },
  {
   "cell_type": "markdown",
   "id": "37fd8a2e-4754-43a2-8481-170c9e24e308",
   "metadata": {},
   "source": [
    "### Ans: 'self' represents the instance of the class. By using the 'self' we can access the attributes and methods of the class in python. It binds the attributes with the given arguments."
   ]
  },
  {
   "cell_type": "markdown",
   "id": "b07da6f8-dbd5-42fa-be50-226c3a8ea19e",
   "metadata": {},
   "source": [
    "## Ques 5:"
   ]
  },
  {
   "cell_type": "markdown",
   "id": "8f51a7d7-dc07-46a8-9a78-adb5fd2f6d58",
   "metadata": {},
   "source": [
    "### Ans: Inheritance allows us to define a class that inherits all the methods and properties from another class. Parent class is the class being inherited from, also called base class. Child class is the class that inherits from another class, also called derived class.\n",
    "###      There are  many type of inheritence such as single inheritence, multiple inheritence, multilevel inheritence, heirarchical inheritence           etc."
   ]
  },
  {
   "cell_type": "code",
   "execution_count": 24,
   "id": "ed198b0d-0f12-4c9a-a2c3-52bbb70be1bf",
   "metadata": {},
   "outputs": [
    {
     "data": {
      "text/plain": [
       "'This is child class'"
      ]
     },
     "execution_count": 24,
     "metadata": {},
     "output_type": "execute_result"
    }
   ],
   "source": [
    "# Single inheritence example\n",
    "# Here we have inherited child class from a single class which is parent class\n",
    "class parent:\n",
    "    def test(self):\n",
    "        return \"This is parent class\"\n",
    "class child(parent):\n",
    "    def test1(self):\n",
    "        return \"This is child class\"\n",
    "child = child()\n",
    "child.test()\n",
    "child.test1()"
   ]
  },
  {
   "cell_type": "code",
   "execution_count": 26,
   "id": "dc1c34d9-a7dc-4571-a1ae-e96974797059",
   "metadata": {},
   "outputs": [
    {
     "data": {
      "text/plain": [
       "'This is class3'"
      ]
     },
     "execution_count": 26,
     "metadata": {},
     "output_type": "execute_result"
    }
   ],
   "source": [
    "# Multiple inheritence example\n",
    "# When a class is inherited from more than one class\n",
    "class class1:\n",
    "    def test1(self):\n",
    "        return 'This is class1'\n",
    "class class2:\n",
    "    def test2(self):\n",
    "        return 'This is class2'\n",
    "class class3(class1, class2): # --> This is a class which is inherited both from class1 and class2\n",
    "    def test3(self):\n",
    "        return 'This is class3'\n",
    "obj = class3()\n",
    "obj.test1()\n",
    "obj.test2()\n",
    "obj.test3()"
   ]
  },
  {
   "cell_type": "code",
   "execution_count": 27,
   "id": "b7fa84bd-4d33-4815-a0d1-730b4c8365fd",
   "metadata": {},
   "outputs": [],
   "source": [
    "# Multilevel inheritence example\n",
    "class class1:\n",
    "    def test1(self):\n",
    "        return 'This is class1'\n",
    "class class2(class1):\n",
    "    def test2(self):\n",
    "        return 'This is class2'    # --> In this example, class2 is inherited from class1 and class3 is inherited from class2.\n",
    "class class3(class2):\n",
    "    def test3(self):\n",
    "        return 'This is class3'"
   ]
  },
  {
   "cell_type": "code",
   "execution_count": 28,
   "id": "43360f69-2ae5-4cbb-bd7e-258d8888a738",
   "metadata": {},
   "outputs": [
    {
     "name": "stdout",
     "output_type": "stream",
     "text": [
      "This function is in parent class.\n",
      "This function is in child 1.\n",
      "This function is in parent class.\n",
      "This function is in child 2.\n"
     ]
    }
   ],
   "source": [
    "# Example of heirarchical class\n",
    "class Parent:\n",
    "    def func1(self):\n",
    "        print(\"This function is in parent class.\")\n",
    "# Derived class1\n",
    "class Child1(Parent):\n",
    "    def func2(self):\n",
    "        print(\"This function is in child 1.\")\n",
    "# Derivied class2\n",
    "class Child2(Parent):\n",
    "    def func3(self):\n",
    "        print(\"This function is in child 2.\")\n",
    "# Driver's code\n",
    "object1 = Child1()\n",
    "object2 = Child2()\n",
    "object1.func1()\n",
    "object1.func2()\n",
    "object2.func1()\n",
    "object2.func3()"
   ]
  },
  {
   "cell_type": "code",
   "execution_count": null,
   "id": "c66c32b4-40d3-467c-9da1-b11164bd8b72",
   "metadata": {},
   "outputs": [],
   "source": []
  }
 ],
 "metadata": {
  "kernelspec": {
   "display_name": "Python 3 (ipykernel)",
   "language": "python",
   "name": "python3"
  },
  "language_info": {
   "codemirror_mode": {
    "name": "ipython",
    "version": 3
   },
   "file_extension": ".py",
   "mimetype": "text/x-python",
   "name": "python",
   "nbconvert_exporter": "python",
   "pygments_lexer": "ipython3",
   "version": "3.10.8"
  }
 },
 "nbformat": 4,
 "nbformat_minor": 5
}
